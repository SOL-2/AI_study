{
 "cells": [
  {
   "cell_type": "code",
   "execution_count": null,
   "metadata": {},
   "outputs": [],
   "source": [
    "def crash_course(dltr):\n",
    "    result = 0\n",
    "    temp = 1\n",
    "    \n",
    "    for i in range(1,dltr):\n",
    "        temp = temp * i\n",
    "        for k in range(i):\n",
    "            result += temp\n",
    "    return result\n",
    "\n",
    "print( \"Result is: \", crash_course(4))"
   ]
  },
  {
   "cell_type": "code",
   "execution_count": null,
   "metadata": {},
   "outputs": [],
   "source": [
    "a = [[1,2], [2,1]]\n",
    "b = [[4,1], [2,2]]\n",
    "\n",
    "np.cross(a,b)"
   ]
  }
 ],
 "metadata": {
  "kernelspec": {
   "display_name": "Python [conda env:data_env] *",
   "language": "python",
   "name": "conda-env-data_env-py"
  },
  "language_info": {
   "codemirror_mode": {
    "name": "ipython",
    "version": 3
   },
   "file_extension": ".py",
   "mimetype": "text/x-python",
   "name": "python",
   "nbconvert_exporter": "python",
   "pygments_lexer": "ipython3",
   "version": "3.7.7"
  }
 },
 "nbformat": 4,
 "nbformat_minor": 4
}
