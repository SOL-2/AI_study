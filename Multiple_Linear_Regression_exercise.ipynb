{
 "cells": [
  {
   "cell_type": "code",
   "execution_count": 13,
   "metadata": {},
   "outputs": [
    {
     "name": "stdout",
     "output_type": "stream",
     "text": [
      "(153, 4)\n",
      "(111, 4)\n"
     ]
    }
   ],
   "source": [
    "import numpy as np\n",
    "import pandas as pd\n",
    "import matplotlib.pyplot as plt\n",
    "from scipy import stats\n",
    "from sklearn.preprocessing import MinMaxScaler\n",
    "\n",
    "df = pd.read_csv('./data/ozone.csv')\n",
    "\n",
    "# display(df)\n",
    "\n",
    "training_data = df[['Ozone','Solar.R','Wind','Temp']]\n",
    "\n",
    "print(training_data.shape) # 결측치 처리 전 (153, 4)\n",
    "\n",
    "training_data = training_data.dropna(how='any')\n",
    "\n",
    "print(training_data.shape) # 결측치 처리 후 (111, 4)\n",
    "\n",
    "\n",
    "# 이상치 처리 ##\n"
   ]
  }
 ],
 "metadata": {
  "kernelspec": {
   "display_name": "Python [conda env:data_env] *",
   "language": "python",
   "name": "conda-env-data_env-py"
  },
  "language_info": {
   "codemirror_mode": {
    "name": "ipython",
    "version": 3
   },
   "file_extension": ".py",
   "mimetype": "text/x-python",
   "name": "python",
   "nbconvert_exporter": "python",
   "pygments_lexer": "ipython3",
   "version": "3.7.7"
  }
 },
 "nbformat": 4,
 "nbformat_minor": 4
}
