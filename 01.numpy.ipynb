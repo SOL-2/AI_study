{
 "cells": [
  {
   "cell_type": "code",
   "execution_count": null,
   "metadata": {},
   "outputs": [],
   "source": [
    "## cell 칸 하나를 셀이라고 부름\n",
    "# a : 현재 셀 위쪽에 새로운 셀 생성\n",
    "# b : 현재 셀 아래쪽에 \n",
    "# dd : 현재 셀 삭제\n",
    "# control + enter : 현재 셀 실행\n",
    "\n",
    "\n",
    "# NumPy\n",
    "# NumPy : Nermeracal Python  \n",
    "# NumPy는 벡터와 매트릭스 연산에 특화\n",
    "# NumPy : Pandas와 matplotlib의 기반이 되는 모듈\n",
    "#         machine learning, deep learning에서 많이 사용됨\n",
    "\n",
    "\n",
    "# Numpy는 ndarray라고 불리는 n -차원의 배열을 제공\n",
    "\n",
    "# ndarray의 특징 : 파이썬의 list와 유사\n",
    "#                파이썬의 list는 다른 데이터 타입을 같이 list 안에 저장이 가능\n",
    "#                Numpy ndarray는 모두 같은 데이터 타입을 사용해야 함\n",
    "#                파이썬의 list보다 메모리 효율이나 실행속도면에서 우위\n",
    "\n",
    "\n",
    "# numpy module을 설치하고 진행해야 함\n",
    "\n",
    "# pip install numpy (일반)\n",
    "# conda install numpy (아나콘다 사용 시)\n"
   ]
  },
  {
   "cell_type": "code",
   "execution_count": 11,
   "metadata": {},
   "outputs": [
    {
     "name": "stdout",
     "output_type": "stream",
     "text": [
      "[1, 2, 3, 4, 5]\n",
      "<class 'list'>\n",
      "[1 2 3 4 5]\n",
      "<class 'numpy.ndarray'>\n",
      "int64\n",
      "1\n",
      "<class 'numpy.int64'>\n",
      "['100' '3.14' 'True' 'Hello']\n"
     ]
    }
   ],
   "source": [
    "import numpy as np\n",
    "\n",
    "# python list\n",
    "a = [1, 2, 3, 4, 5]  # python list\n",
    "print(a)             # [1, 2, 3, 4, 5]  ==> list literal\n",
    "print(type(a))       # <class 'list'>\n",
    "\n",
    "# Numpy ndarray\n",
    "\n",
    "arr = np.array([1, 2, 3, 4, 5])\n",
    "print(arr)           # [1 2 3 4 5]  ==> ndarray literal\n",
    "print(type(arr))     # <class 'numpy.ndarray'> \n",
    "print(arr.dtype)     # int64(int:정수, 32: 32bit)\n",
    "print(arr[0])        # 1 = > 만약 파이썬에서 리스트를class ' int'\n",
    "print(type(arr[0]))  # <class 'numpy.int64'>  파이썬과 넘파이 클래스 타입이 다름\n",
    "\n",
    "\n",
    "arr = np.array([100, 3.14, True, 'Hello'])\n",
    "print(arr)           # ['100' '3.14' 'True' 'Hello'] ==> 묶일 수 있는 데이터 타입으로 변경됨\n"
   ]
  },
  {
   "cell_type": "code",
   "execution_count": 128,
   "metadata": {},
   "outputs": [
    {
     "name": "stdout",
     "output_type": "stream",
     "text": [
      "[[1 2 3]\n",
      " [4 5 6]]\n",
      "5\n"
     ]
    }
   ],
   "source": [
    "# 다차원 ndarray\n",
    "# python의 list는 중첩 리스트만 존재\n",
    "\n",
    "\n",
    "a = [[1,2,3],\n",
    "     [4,5,6]]\n",
    "\n",
    "arr = np.array(a)\n",
    "print(arr)\n",
    "\n",
    "print(arr[1,1])\n",
    "\n",
    "\n"
   ]
  },
  {
   "cell_type": "code",
   "execution_count": 16,
   "metadata": {},
   "outputs": [
    {
     "name": "stdout",
     "output_type": "stream",
     "text": [
      "[[1. 2. 3.]\n",
      " [4. 5. 6.]]\n"
     ]
    }
   ],
   "source": [
    "a = [[1,2,3],\n",
    "     [4,5,6]]\n",
    "\n",
    "arr = np.array(a, dtype=np.float64)\n",
    "print(arr)\n",
    "\n",
    "#[[1. 2. 3.]\n",
    "# [4. 5. 6.]]"
   ]
  },
  {
   "cell_type": "code",
   "execution_count": 132,
   "metadata": {
    "scrolled": true
   },
   "outputs": [
    {
     "name": "stdout",
     "output_type": "stream",
     "text": [
      "[1. 2. 3. 4.]\n",
      "1\n",
      "(4,)\n",
      "[[ 1.  2.  3.]\n",
      " [ 4.  5.  6.]\n",
      " [ 7.  8.  9.]\n",
      " [10. 11. 12.]]\n",
      "(4, 3)\n",
      "2\n"
     ]
    }
   ],
   "source": [
    "# ndarray의 차원 관련 속성\n",
    "\n",
    "a = [1, 2, 3, 4]\n",
    "arr = np.array(a, dtype=np.float64)\n",
    "print(arr)\n",
    "\n",
    "print(arr.ndim)    # ndim => 차원의 갯수 : 1\n",
    "print(arr.shape)   # 각 차원의 요소의 갯수를 tuple로 표현\n",
    "                   # (4,)\n",
    "    \n",
    "a = [[1,2,3],\n",
    "     [4,5,6],\n",
    "     [7,8,9],\n",
    "     [10,11,12]]    \n",
    "\n",
    "arr = np.array(a, dtype=np.float64)\n",
    "print(arr)\n",
    "print(arr.shape)\n",
    "print(arr.ndim)\n",
    "\n",
    "\n",
    "\n",
    "\n"
   ]
  },
  {
   "cell_type": "code",
   "execution_count": 30,
   "metadata": {},
   "outputs": [
    {
     "name": "stdout",
     "output_type": "stream",
     "text": [
      "[[[ 1.  2.  3.]\n",
      "  [ 4.  5.  6.]]\n",
      "\n",
      " [[ 7.  8.  9.]\n",
      "  [10. 11. 12.]]]\n",
      "(2, 2, 3)\n"
     ]
    }
   ],
   "source": [
    "## 3차원 중첩 리스트\n",
    "## ndarray를 생성한 후 shape을 출력하면 => (2,2,3)\n",
    "\n",
    "\n",
    "\n",
    "a = [[[1,2,3],[4,5,6]],[[7,8,9],[10,11,12]]]\n",
    "\n",
    "arr = np.array(a, dtype=np.float64)\n",
    "print(arr)\n",
    "print(arr.shape)"
   ]
  },
  {
   "cell_type": "code",
   "execution_count": 44,
   "metadata": {
    "scrolled": true
   },
   "outputs": [
    {
     "name": "stdout",
     "output_type": "stream",
     "text": [
      "[[ 1.  2.  3.]\n",
      " [ 4.  5.  6.]\n",
      " [ 7.  8.  9.]\n",
      " [10. 11. 12.]]\n",
      "12\n",
      "4\n",
      "(4, 3)\n",
      "[[ 1.  2.  3.  4.  5.  6.]\n",
      " [ 7.  8.  9. 10. 11. 12.]]\n",
      "[[[ 1.  2.]\n",
      "  [ 3.  4.]]\n",
      "\n",
      " [[ 5.  6.]\n",
      "  [ 7.  8.]]\n",
      "\n",
      " [[ 9. 10.]\n",
      "  [11. 12.]]]\n"
     ]
    }
   ],
   "source": [
    "# numpy array의 크기를 알아보자\n",
    "\n",
    "a = [[1,2,3],[4,5,6],[7,8,9],[10,11,12]] \n",
    "\n",
    "arr = np.array(a,dtype=np.float64)\n",
    "print(arr)\n",
    "print(arr.size) # 12\n",
    "print(len(arr)) # 첫번째 차원의 요소 개수를 리턴 (행의 갯수를 리턴 => 4 )\n",
    "\n",
    "\n",
    "print(arr.shape) # (4, 3)\n",
    "arr.shape = (2,6)\n",
    "print(arr)\n",
    "\n",
    "arr.shape = (3,2,2)\n",
    "print(arr)\n",
    "\n",
    "# arr.shape = (3,2,3)  # 데이터 갯수가 부족하면 value error 가 난다\n",
    "# print(arr)\n",
    "\n",
    "# shape 속성을 이용해서 변경하는 방식은 잘 사용하지 않음\n",
    "# shape을 변경하기 위해서는 reshape()함수를 이용"
   ]
  },
  {
   "cell_type": "code",
   "execution_count": 50,
   "metadata": {},
   "outputs": [
    {
     "name": "stdout",
     "output_type": "stream",
     "text": [
      "[1.5 2.3 8.3 9.3 7.4]\n",
      "[1 2 8 9 7]\n",
      "int32\n"
     ]
    }
   ],
   "source": [
    "# ndarray를 생성할 때 dtype을 지정해서 생성\n",
    "# ndarray의 데이터 타입을 변경하려면....??\n",
    "\n",
    "import numpy as np\n",
    "\n",
    "arr = np.array([1.5, 2.3, 8.3, 9.3, 7.4], dtype=np.float64)\n",
    "print(arr)\n",
    "\n",
    "result = arr.astype(np.int32)\n",
    "print(result)                  # 버림처리 [1 2 8 9 7]\n",
    "print(result.dtype)            # int32"
   ]
  },
  {
   "cell_type": "code",
   "execution_count": 59,
   "metadata": {
    "scrolled": true
   },
   "outputs": [
    {
     "name": "stdout",
     "output_type": "stream",
     "text": [
      "[[0. 0. 0.]\n",
      " [0. 0. 0.]]\n"
     ]
    }
   ],
   "source": [
    "## ndarray를 생성할 때 python의 list를 이용해서 만들었음\n",
    "## ndarray를 만드는 여러가지 방법이 존재\n",
    "\n",
    "# import numpy as np\n",
    "\n",
    "# arr = np.zeros((3,4))  # 0으로 채운 numpy array를 만들어라\n",
    "#                        # shape을 명시해야 함\n",
    "#                        # dtype은 np.float64로 지정\n",
    "# print(arr)\n",
    "\n",
    "# arr = np.ones((2,5))   # 1로 채운 numpy array\n",
    "# print(arr)\n",
    "\n",
    "# arr = np.full((3,5),7, dtype=np.float64) # 원하는 숫자로 채우는\n",
    "# print(arr)\n",
    "\n",
    "\n",
    "# arr = np.empty((3,3))   # 3x3 ndarray 초기값을 주지 않음\n",
    "#                         # 원하는 shape의 공간만 설정. 초기화 하지 않음.\n",
    "# print(arr)    \n",
    "\n",
    "\n",
    "\n",
    "\n",
    "##############################################################\n",
    "\n",
    "\n",
    "# arr = np.array([(1,2,3),(4,5,6)])\n",
    "# print(arr)   # 2 x 3 ndarray\n",
    "\n",
    "\n",
    "# ones, zeros, full, empty와 상당히 유사한 함수 이용\n",
    "\n",
    "result = np.zeros_like(arr, dtype=np.float64)\n",
    "print(result)\n",
    "\n",
    "\n"
   ]
  },
  {
   "cell_type": "code",
   "execution_count": 61,
   "metadata": {
    "scrolled": true
   },
   "outputs": [
    {
     "name": "stdout",
     "output_type": "stream",
     "text": [
      "range(1, 10)\n",
      "[1 2 3 4 5 6 7 8 9]\n"
     ]
    }
   ],
   "source": [
    "# ndarray를 만드는 다른 방법 - arange\n",
    "\n",
    "# python의 range와 유사\n",
    "# 주어진 범위내에서 지정한 간격으로 연속적인 원소를 가진 ndarray를 생성\n",
    "\n",
    "a = range(1,10,1)\n",
    "print(a)\n",
    "\n",
    "arr = np.arange(1,10,1)\n",
    "print(arr)"
   ]
  },
  {
   "cell_type": "code",
   "execution_count": 122,
   "metadata": {
    "scrolled": true
   },
   "outputs": [
    {
     "name": "stdout",
     "output_type": "stream",
     "text": [
      "[ 0.  1.  2.  3.  4.  5.  6.  7.  8.  9. 10.]\n",
      "[  1.   5.   9.  13.  17.  21.  25.  29.  33.  37.  41.  45.  49.  53.\n",
      "  57.  61.  65.  69.  73.  77.  81.  85.  89.  93.  97. 101. 105. 109.\n",
      " 113. 117. 121.]\n"
     ]
    },
    {
     "data": {
      "image/png": "[encoded data removed]",
      "text/plain": [
       "<Figure size 432x288 with 1 Axes>"
      ]
     },
     "metadata": {
      "needs_background": "light"
     },
     "output_type": "display_data"
    }
   ],
   "source": [
    "# ndarray를 만드는 다른 방법 - linspace\n",
    "# linspace 기능를 확인하기 위해서 그래프로 데이터를 그려볼 거예염\n",
    "# matplotlib module, seaborn\n",
    "\n",
    "\n",
    "import numpy as np\n",
    "import matplotlib.pyplot as plt\n",
    "\n",
    "\n",
    "# np.linspace(start, stop, num)\n",
    "# start부터 시작해서 stop의 범위에서 num개의 숫자를 균일한 간격으로 데이터를 \n",
    "# 생성하는 ndarray를 만드는 함수\n",
    "\n",
    "arr = np.linspace(0,10,11)\n",
    "print(arr)\n",
    "\n",
    "arr = np.linspace(1, 121, 31)\n",
    "# 원소간의 간격은 (stop - start)/(num-1)\n",
    "print(arr)\n",
    "\n",
    "\n",
    "plt.plot(arr, '*')\n",
    "plt.show()\n",
    "\n"
   ]
  },
  {
   "cell_type": "code",
   "execution_count": 4,
   "metadata": {
    "scrolled": true
   },
   "outputs": [
    {
     "name": "stdout",
     "output_type": "stream",
     "text": [
      "[0.53496288 0.44128725 0.78940485 ... 0.13318639 0.84628511 0.09445701]\n"
     ]
    },
    {
     "data": {
      "image/png": "[encoded data removed]",
      "text/plain": [
       "<Figure size 432x288 with 1 Axes>"
      ]
     },
     "metadata": {
      "needs_background": "light"
     },
     "output_type": "display_data"
    },
    {
     "name": "stdout",
     "output_type": "stream",
     "text": [
      "[-1.9270981  -0.59880464  1.42049133 ... -0.63883953  1.12178706\n",
      " -0.33651208]\n"
     ]
    },
    {
     "data": {
      "image/png": "[encoded data removed]",
      "text/plain": [
       "<Figure size 432x288 with 1 Axes>"
      ]
     },
     "metadata": {
      "needs_background": "light"
     },
     "output_type": "display_data"
    },
    {
     "name": "stdout",
     "output_type": "stream",
     "text": [
      "[0.38768213 0.46159177 0.13858194 ... 0.85932295 0.03435747 0.7240988 ]\n"
     ]
    },
    {
     "data": {
      "image/png": "[encoded data removed]",
      "text/plain": [
       "<Figure size 432x288 with 1 Axes>"
      ]
     },
     "metadata": {
      "needs_background": "light"
     },
     "output_type": "display_data"
    }
   ],
   "source": [
    "# ndarray를 생성할 때 랜덤값 기반으로 생성할 수 있음\n",
    "# 총 5가지 방법으로 ndarray를 생성할 수 있음\n",
    "\n",
    "import numpy as np\n",
    "import matplotlib.pyplot as plt\n",
    "\n",
    "# 1. np.random.normal() : 정규분포 확률밀도함수에서 실수 표본을 추출해서 ndarray생성\n",
    "#                         평균, 표준편차\n",
    "\n",
    "# mean = 50\n",
    "# std = 2\n",
    "# arr = np.random.normal(mean,std,(100000,))\n",
    "# print(arr)\n",
    "# plt.hist(arr,bins=100)\n",
    "# plt.show()\n",
    "\n",
    "\n",
    "\n",
    "# 2. np.random.rand() : 0이상 1 미만의 실수를 추출 [0,1) 범위에서 추출 균등분포로 추출\n",
    "\n",
    "# arr = np.random.rand(100000)\n",
    "# print(arr)\n",
    "# plt.hist(arr,bins=100)\n",
    "# plt.show()\n",
    "\n",
    "\n",
    "# 3. np.random.randn(d0,d1,d2...) : 실수추출 , 표준정규분포에서 난수를 추출\n",
    "#                                   평균이 0, 표준편차 1\n",
    "\n",
    "# arr = np.random.randn(100000)\n",
    "# print(arr)\n",
    "# plt.hist(arr,bins=100)\n",
    "# plt.show()\n",
    "\n",
    "\n",
    "# 4. np.random.randint(low, high, shape) : 균등분표 확률밀도함수에서 난수 추출 \n",
    "#                                          정수값을 난수로 추출\n",
    "\n",
    "# arr = np.random.randint(-100,100,(100000,))\n",
    "# print(arr)\n",
    "# plt.hist(arr,bins=100)\n",
    "# plt.show()\n",
    "\n",
    "\n",
    "# 5. np.random.random(shape) : 0이상 1 미만 [0,1)균등분표에서 실수 난수 추출\n",
    "\n",
    "# arr = np.random.random((100000,))\n",
    "# print(arr)\n",
    "# plt.hist(arr,bins=100)\n",
    "# plt.show()\n",
    "\n"
   ]
  },
  {
   "cell_type": "code",
   "execution_count": 131,
   "metadata": {
    "scrolled": true
   },
   "outputs": [
    {
     "name": "stdout",
     "output_type": "stream",
     "text": [
      "[3 4 3 2 0]\n",
      "[0 3 0 2 4 3 4 2 3 0]\n"
     ]
    }
   ],
   "source": [
    "## Numpy가 제공하는 랜덤 관련 함수\n",
    "\n",
    "# 1. 난수의 재현\n",
    "# 랜덤값도 특정 알고리즘의 결과물. 초기 시작값을 설정해주면 항상 같은 랜덤값이 도출\n",
    "# seed 값을 입력하면 동일한 랜덤값이 나옴\n",
    "\n",
    "# np.random.seed(10)\n",
    "# arr = np.random.randint(0,100,(10,))\n",
    "# print(arr)\n",
    "\n",
    "\n",
    "# 2. ndarray의 순서를 랜덤하게 바꾸기\n",
    "\n",
    "# arr = np. arange(10)\n",
    "# print(arr)\n",
    "\n",
    "# np.random.shuffle(arr)  #ndarray 자체가 변형됨\n",
    "# print(arr)\n",
    "\n",
    "\n",
    "# 3. ndarray 안에서 일부를 무작위로 선택하는 기능 => sampling\n",
    "#    choice()\n",
    "\n",
    "# np.random.choice(arr, size, replace, p)\n",
    "\n",
    "# arr : numpy array가 나오거나 혹은 정수가 나올 수 있음. 만약 정수면 arange(정수)\n",
    "# size : 정수값 샘플의 숫자\n",
    "# replace : boolean(True, False)\n",
    "#           True : 한번 선택한 데이터를 다시 샘플링할 수 있음(다시 뽑을 수 있음)\n",
    "# p : 확률, ndarray, 각 데이터가 각 샘플링될 확룰을 가지고 있는 ndarray\n",
    "\n",
    "arr = np.random.choice(5,5, replace=True)\n",
    "print(arr)\n",
    "\n",
    "               # [0 1 2 3 4]\n",
    "arr = np.random.choice(5, 10, replace=True, p=[0.2, 0, 0.3, 0.4, 0.1])\n",
    "print(arr)"
   ]
  },
  {
   "cell_type": "code",
   "execution_count": 132,
   "metadata": {
    "scrolled": true
   },
   "outputs": [
    {
     "name": "stdout",
     "output_type": "stream",
     "text": [
      "[ 0  1  2  3  4  5  6  7  8  9 10 11]\n",
      "[[ 0  1  2]\n",
      " [ 3  4  5]\n",
      " [ 6  7  8]\n",
      " [ 9 10 11]]\n",
      "[100   1   2   3   4   5   6   7   8   9  10  11]\n",
      "[[100   1   2]\n",
      " [  3   4   5]\n",
      " [  6   7   8]\n",
      " [  9  10  11]]\n"
     ]
    }
   ],
   "source": [
    "# ndarraysms shape을 가지고 있음\n",
    "# shape 속성의 값을 바꾸어서 ndarray의 형태를 변경하는 것은 좋지 않음\n",
    "# reshape() 함수를 이용하여 바꾸는 것이 좋음\n",
    "\n",
    "import numpy as np\n",
    "\n",
    "arr = np.arange(0,12,1)\n",
    "print(arr)\n",
    "\n",
    "arr1 = arr.reshape(4,3)  # 새로운 ndarray 생성이 아니라 View를 생성\n",
    "print(arr1)              # 데이터는 arr이 가지고 있으나 다르게 보여주는 것(데이터 공유)\n",
    "\n",
    "arr[0] = 100             # 데이터값이 변하면 영향을 받는다\n",
    "print(arr)\n",
    "print(arr1) \n",
    "\n",
    "####################\n",
    "\n",
    "# arr = np.arange(0,12,1)\n",
    "# arr1 = arr.reshape(2,2,-1)   # -1을 넣으면 자동으로 계산되어 나온다 \n",
    "# print(arr1)\n",
    "\n",
    "\n",
    "\n",
    "arr = np.arange(0,12,1)\n",
    "arr1 = arr.reshape(2,6).copy()  # View가 아니라 진짜 shape을 바꾼 ndarray를 만드려면??\n"
   ]
  },
  {
   "cell_type": "code",
   "execution_count": 140,
   "metadata": {
    "scrolled": true
   },
   "outputs": [
    {
     "name": "stdout",
     "output_type": "stream",
     "text": [
      "[[ 0  1  2  3  4  5  6  7  8  9]\n",
      " [10 11 12 13 14 15 16 17 18 19]]\n",
      "[ 0  1  2  3  4  5  6  7  8  9 10 11 12 13 14 15 16 17 18 19]\n"
     ]
    }
   ],
   "source": [
    "# ndarray의 shape 조절 함수\n",
    "\n",
    "# reshape() 함수를 이용해서 shape을 조절할 수 있음\n",
    "\n",
    "\n",
    "# ravel() : ndarray의 모든 요소가 포함된 1차원 vector를 리턴!!\n",
    "#           View를 리턴\n",
    "\n",
    "# arr = np.arange(0, 20, 1).reshape(2, -1).copy()\n",
    "# print(arr)\n",
    "\n",
    "# arr1 = arr.ravel()\n",
    "# print(arr1)"
   ]
  },
  {
   "cell_type": "code",
   "execution_count": 140,
   "metadata": {
    "scrolled": true
   },
   "outputs": [
    {
     "name": "stdout",
     "output_type": "stream",
     "text": [
      "[[9 4 0 1]\n",
      " [9 0 1 8]\n",
      " [9 0 8 6]]\n",
      "[[9 4 0 1 9]\n",
      " [0 1 8 9 0]\n",
      " [8 6 0 0 0]]\n",
      "[[9 4]\n",
      " [0 1]]\n"
     ]
    }
   ],
   "source": [
    "# NumPy day2\n",
    "\n",
    "# ndarray shape 조절 함수\n",
    "# reshape() : 원하는 형태(shape)으로 ndarray의 shape을 조절\n",
    "# ravel () : 1차원 vector(1차원 ndarray)로 shape을 변경\n",
    "\n",
    "# resize() \n",
    "\n",
    "import numpy as np\n",
    "\n",
    "# 정수형태의 난수를 이용해서 (3,4) shape을 가지는 ndarray 생성\n",
    "\n",
    "np.random.seed(10) # 난수 재현성 확보\n",
    "\n",
    "arr = np.random.randint(0,10,(3,4))\n",
    "print(arr)\n",
    "\n",
    "\n",
    "# result = arr.resize(2,6) # View가 생성되지 않음. 원본이 원하는 shape을 바뀜\n",
    "# print(arr)\n",
    "\n",
    "arr.resize(3,5)\n",
    "print(arr)      # reshape()은 요소가 개수가 맞지 않으면 shape 변경이 안됨\n",
    "                # resize()은 요소의 개수가 맞지 않아도 shape이 변경\n",
    "    \n",
    "arr.resize(2,2) # 요소수가 줄어들면 기존 데이터를 버림\n",
    "print(arr)      # 요소수가 늘어나면 0으로 세팅\n",
    "\n",
    "\n",
    "## 여기까지가 numpy array의 기본적 특징 ##"
   ]
  },
  {
   "cell_type": "code",
   "execution_count": 158,
   "metadata": {
    "scrolled": true
   },
   "outputs": [
    {
     "name": "stdout",
     "output_type": "stream",
     "text": [
      "[[ 1  2  3  4]\n",
      " [ 5  6  7  8]\n",
      " [ 9 10 11 12]\n",
      " [13 14 15 16]]\n"
     ]
    }
   ],
   "source": [
    "## indexing & slincing\n",
    "\n",
    "import numpy as np\n",
    "\n",
    "# arr = np.arange(10,20,1)\n",
    "\n",
    "# print(arr)\n",
    "\n",
    "# ndarray의 각 요소를 출력하려면 어떻게 해야 할까?\n",
    "\n",
    "# for tmp in arr:\n",
    "#     print(tmp)\n",
    "\n",
    "\n",
    "# for (idx,tmp) in enumerate(arr):\n",
    "#     print('인덱스 : {}, 데이터 : {}'. format(idx,tmp))\n",
    "\n",
    "\n",
    "# print(arr[3])         # 13\n",
    "# print(arr[1:4])       # [11 12 13]\n",
    "# print(arr[:-1])       # [10 11 12 13 14 15 16 17 18]\n",
    "# print(arr[1:-1:2])    # [11 13 15 17]\n",
    "\n",
    "\n",
    "arr = np.arange(1,17,1).reshape(4,4).copy()\n",
    "print(arr)\n",
    "\n",
    "\n",
    "# print(arr[1,2])     # 7\n",
    "# print(arr[1][2])    # [ 5  6  7  8] => 처리한 후 2번째 : 7\n",
    "\n",
    "# print(arr[2,:])       # [ 9 10 11 12]\n",
    "# print(arr[1:3,:])     # [[ 5  6  7  8]\n",
    "#                       # [ 9 10 11 12]]\n",
    "    \n",
    "# print(arr[1:3,:2])    # [[ 5  6]\n",
    "#                       # [ 9 10]]"
   ]
  },
  {
   "cell_type": "code",
   "execution_count": 174,
   "metadata": {
    "scrolled": true
   },
   "outputs": [
    {
     "name": "stdout",
     "output_type": "stream",
     "text": [
      "[[ 0  1  2  3]\n",
      " [ 4  5  6  7]\n",
      " [ 8  9 10 11]]\n",
      "[[ 1  3]\n",
      " [ 5  7]\n",
      " [ 9 11]]\n"
     ]
    }
   ],
   "source": [
    "## Boolean indexing과 Fancy indexing!!\n",
    "\n",
    "# Boolean indexing\n",
    "# ndarray의 각 요소의 선택 여부\n",
    "# True, False로 구성된 boolean mask를 이용하여 지정하는 방식\n",
    "# boolean mask의 True에 해당하는 index만을 조회하는 방식\n",
    "\n",
    "# np.random.seed(1)\n",
    "# arr = np.random.randint(0,10,(5,))\n",
    "\n",
    "# print(arr)           # [5 8 9 5 0]\n",
    "# print(arr % 2)       # [1 0 1 1 0]\n",
    "# print(arr % 2 == 0)  # [False  True False False  True]  \n",
    "#                      # => 원본과 요소가 똑같고 boolean으로 구성된 ndarray : boolean mask\n",
    "# print(arr[arr % 2 == 0]) # [8 0] => Boolean indexing\n",
    "\n",
    "# Fancy indexing\n",
    "# ndarray에 index배열을 전달하여 배열요소를 참조하는 방식\n",
    "\n",
    "arr = np.arange(0,12,1).reshape(3,4).copy()\n",
    "print(arr)\n",
    "\n",
    "# print(arr[2,2])     # indexing: 10\n",
    "# print(arr[1:2,2])   # slicing : [6]\n",
    "# print(arr[1:2,1:2]) # slicing :[[5]]\n",
    "\n",
    "# print(arr[[0,2],2])       # index 배열 : [0,1,2,3...]  # [2 10] 스칼라 인덱싱이어서 1차원으로 나옴\n",
    "print(arr[:,[1,3]])\n",
    "\n",
    "\n",
    "\n",
    "# Fancy indexing은 행과 열 동시에 적용되지 않는다 둘 중에 한개만\n",
    "\n",
    "#[[1 3]\n",
    "#[9 11]]\n",
    "                            \n",
    "\n",
    "# 해결방법 1\n",
    "# print(arr[[0,2]][:,[1,3]]) # 앞엔 슬라이싱 뒤엔 팬시인덱싱\n",
    "\n",
    "\n",
    "# # 해결방법 2 - Numpy 함수 활용\n",
    "# print(arr[np.ix_([0,2],[1,3])])\n",
    "\n"
   ]
  },
  {
   "cell_type": "code",
   "execution_count": 180,
   "metadata": {
    "scrolled": true
   },
   "outputs": [
    {
     "name": "stdout",
     "output_type": "stream",
     "text": [
      "[[ 58  64]\n",
      " [139 154]]\n"
     ]
    }
   ],
   "source": [
    "# ndarray의 사칙연산과 행렬곱\n",
    "\n",
    "import numpy as np\n",
    "\n",
    "# arr1 = np.array([[1,2,3],[4,5,6]]) # 2 x 3\n",
    "# arr2 = np.array([[7,8,9],[10,11,12]])\n",
    "\n",
    "# print(arr1)\n",
    "# print(arr2)\n",
    "\n",
    "# pythond에서 list + 연산자는 concatenation\n",
    "# ndarray의 기본전제는 shape이 같아야 연산이 성립\n",
    "\n",
    "# print(arr1 + arr2) # ndarray의 기본 방식\n",
    "\n",
    "# arr2 = 3\n",
    "# print(arr1 + arr2) # shape이 안맞는 경우 ndarray가 broadcating을 수행\n",
    "\n",
    "# arr2 2 x 3 으로 shape을 바꿔서 연산을 수행\n",
    "#[[3 3 3]\n",
    "# [3 3 3] \n",
    "\n",
    "# [[4 5 6]\n",
    "# [7 8 9]]\n",
    "\n",
    "## broadcating은 자기를 복제하여 shape을 맞춰 연산을 할 수 있게 함\n",
    "\n",
    "\n",
    "## 행렬곱 연산\n",
    "## 두 행렬 간의 행렬곱은 np.dot(), np.matmul()로 수행\n",
    "## np. dot(A,B)에서 A행렬의 열 vector와 B행렬의 행 Vector의 사이즈가 같아야 함\n",
    "## 만약 크기가 다르면 reshape, resize를 활용하여 크기를 맞추고 연산 수행\n",
    "## broadcasting은 dot에서는 되지 않음\n",
    "## 행렬곱 조건만 만족시키면 다양한 크기의 행렬을 연속적으로 이용해서\n",
    "## 특정 작업을 수행할 수 있음\n",
    "## 머신러닝, 이미지처리쪽에서 사용\n",
    "\n",
    "## 예) 입력 : 32 x 32 matrix 이미지파일\n",
    "##    출력 : 32 x 10 matrix 다양한 처리가 적용된 이미지\n",
    "##    행렬곱 : (32 x 32) dot (32 x 128) dot (128 x 64) dot (64 x 10) = (32 x 10)\n",
    "\n",
    "# arr1 = np.array([[1,2,3],[4,5,6]]) # 2 x 3\n",
    "# arr2 = np.array([[7,8],[9,10],[11,12]])\n",
    "\n",
    "# print(np.dot(arr1,arr2))\n"
   ]
  },
  {
   "cell_type": "code",
   "execution_count": 181,
   "metadata": {
    "scrolled": true
   },
   "outputs": [
    {
     "name": "stdout",
     "output_type": "stream",
     "text": [
      "[[1 2 3]\n",
      " [4 5 6]]\n",
      "[[1 4]\n",
      " [2 5]\n",
      " [3 6]]\n",
      "[[100   2   3]\n",
      " [  4   5   6]]\n",
      "[[100   4]\n",
      " [  2   5]\n",
      " [  3   6]]\n"
     ]
    }
   ],
   "source": [
    "## Transpose\n",
    "\n",
    "## 전치행렬이라고 불리는 transpose\n",
    "## 전치행렬은 원본행렬의 행은 열로, 연은 행으로 바꾼 행렬을 의미\n",
    "## 전치행렬의 표현은 윗첨자로 T를 이용\n",
    "\n",
    "# arr = np.array([[1,2,3],[4,5,6]]) # 2 x 3 nd array\n",
    "\n",
    "# print(arr)\n",
    "\n",
    "# t_array = arr.T\n",
    "# print(t_array) # 3 x 2 ndarray\n",
    "\n",
    "# arr[0,0] = 100\n",
    "# print(arr)\n",
    "# print(t_array)  # View \n",
    "\n",
    "\n",
    "# arr = np.array([1,2,3,4]) # vector\n",
    "# t_array = arr.reshape(1,4).T  # 1차원에서는 전치행렬이 의미가 없음, reshape()을 하고 나서 진행\n",
    "\n",
    "# print(arr)\n",
    "# print(t_array)"
   ]
  },
  {
   "cell_type": "code",
   "execution_count": 184,
   "metadata": {},
   "outputs": [
    {
     "name": "stdout",
     "output_type": "stream",
     "text": [
      "1 2 3 4 5 "
     ]
    }
   ],
   "source": [
    "## iterator 순환자\n",
    "## iterator의 동작방식, 왜 쓰는지 알아야 함\n",
    "\n",
    "import numpy as np\n",
    "\n",
    "# 1차원 ndarray를 만들어서 각 요소 출력\n",
    "\n",
    "# arr = np.array([1, 2, 3, 4, 5])\n",
    "# print(arr)\n",
    "\n",
    "# for문\n",
    "# for tmp in arr:\n",
    "#     print(tmp, end=' ') # 한칸씩 띄어쓰겠다 -> 1 2 3 4 5 \n",
    "\n",
    "# 이 작업을 iterator를 이용해서 구현\n",
    "# arr = np.array([1, 2, 3, 4, 5])\n",
    "\n",
    "# it = np.nditer(arr, flags=['c_index']) # 1차원 : c_index\n",
    "\n",
    "# while not it.finished:                 # iterator가 지정하는 위치가 끝이 아닐동안 반복\n",
    "#     idx = it.index                     # iterator가 현재 가리키는 곳의 index숫자를 가져옴\n",
    "#     print(arr[idx], end= ' ')\n",
    "    \n",
    "#     it.iternext()\n",
    "    \n",
    "\n",
    "##############################\n",
    "\n",
    "# 2차원 ndarray 각 요소 출력\n",
    "\n",
    "# arr = np.array([[1,2,3],[4,5,6]])\n",
    "\n",
    "# print(arr)\n",
    "\n",
    "# for row in range(arr.shape[0]):\n",
    "#     for col in range(arr.shape[1]):\n",
    "#         print(arr[row.col], end=' ')\n",
    "        \n",
    "\n",
    "# 3차원이면 for문이 3번 돌아야 함\n",
    "# 차원이 높아질수록 코드처리가 힘들어짐\n",
    "\n",
    "###############################\n",
    "\n",
    "arr = np.array([[1,2,3],[4,5,6]])\n",
    "\n",
    "it = np.nditer(arr, flags=['multi_index'])  # 다차원 : multi_index\n",
    "\n",
    "while not it.finished:                      # iterator가 지정하는 위치가 끝이 아닐동안 반복\n",
    "    idx = it.multi_index                    # iterator가 현재 가리키는 곳의 index숫자를 가져옴\n",
    "    print(arr[idx], end= ' ')\n",
    "    \n",
    "    it.iternext()\n",
    "\n",
    "\n"
   ]
  },
  {
   "cell_type": "code",
   "execution_count": 185,
   "metadata": {
    "scrolled": true
   },
   "outputs": [
    {
     "name": "stdout",
     "output_type": "stream",
     "text": [
      "[[5 0 3]\n",
      " [3 7 9]]\n",
      "[[3 5 2]\n",
      " [4 7 6]]\n",
      "[[False False False]\n",
      " [False  True False]]\n",
      "[0 1 2 3 4 5 6 7 8 9]\n",
      "[0 1 2 3 4 5 6 7 8 9]\n",
      "True\n"
     ]
    }
   ],
   "source": [
    "# ndarray의 비교연산\n",
    "# 사칙연산과 마찬가지로 비교연산도 같은 index끼리 수행\n",
    "\n",
    "np.random.seed(0)\n",
    "\n",
    "arr1 = np.random.randint(0,10,(2,3))\n",
    "arr2 = np.random.randint(0,10,(2,3))\n",
    "\n",
    "print(arr1)\n",
    "print(arr2)\n",
    "\n",
    "print(arr1 == arr2)  # boolean mask\n",
    "\n",
    "# 만약 2개의 ndarray가 같은 데이터를 가지고 있는지 비교할때는 어떻게 할까용?\n",
    "\n",
    "arr1 = np.arange(10)\n",
    "arr2 = np.arange(10)\n",
    "\n",
    "print(arr1)\n",
    "print(arr2)\n",
    "print(np.array_equal(arr1,arr2)) # True\n"
   ]
  },
  {
   "cell_type": "code",
   "execution_count": 193,
   "metadata": {
    "scrolled": true
   },
   "outputs": [
    {
     "name": "stdout",
     "output_type": "stream",
     "text": [
      "21\n",
      "[5 7 9]\n",
      "[ 6 15]\n",
      "[2 2]\n"
     ]
    }
   ],
   "source": [
    "# NumPy 집계함수 & axis(축)\n",
    "\n",
    "import numpy as np\n",
    "\n",
    "# arr = np.arange(1,7,1).reshape(2,3).copy()\n",
    "# print(arr)\n",
    "\n",
    "# result = 0 \n",
    "# for row in range(arr.shape[0]):\n",
    "#     for col in range(arr.shape[1]):\n",
    "#         result += arr[row,col]\n",
    "\n",
    "# print(result)\n",
    "\n",
    "\n",
    "# print(np.sum(arr))    # 넘파이가 주체\n",
    "# print(arr.sum())      # 넘파이 array가 주체\n",
    "\n",
    "# print(np.cumsum(arr)) # 누적합 => [ 1  3  6 10 15 21] 누적합은 1차원 vector형태로 나타남\n",
    "# print(np.mean(arr))   # 평균 => 3.5\n",
    "# print(np.max(arr))    # 최대값 => 6\n",
    "# print(np.min(arr))    # 최소값 => 1\n",
    "# print(np.argmax(arr)) # 최대값의 순번(index) => 5 # 열번호 행번호 아님!!\n",
    "# print(np.argmin(arr)) # 최소값의 순번(index) => \n",
    "# print(np.std(arr))    # 표준편차 => 1.7078\n",
    "# print(np.exp(arr))    # 요소의 자연상수 2.718\n",
    "# print(np.log10(arr))  \n",
    "\n",
    "\n",
    "\n",
    "# numpy의 모든 집계함수는 axis를 기준으로 계산\n",
    "# np.sum()\n",
    "# 만약 axis를 지정하지 않으면 axis는 None으로 설정되고\n",
    "# 함수의 대상범위를 전체 ndarray로 지정하게 된다\n",
    "\n",
    "# arr = np.arange(1,7,1).reshape(2,3).copy()\n",
    "# print(arr)\n",
    "# print(arr.sum())\n",
    "\n",
    "\n",
    "\n",
    "## axis를 어떻게 설정하고 어떤 효과가 있는지\n",
    "\n",
    "# 1차원 ndarray \n",
    "# arr = np.array([1,2,3,4,5])\n",
    "# print(arr.sum())  # axis=None, axis를 지정하지 않았기 때문에 전체 ndarray를 대상으로 sum()수행\n",
    "\n",
    "# 1차원은 축이 1개, 2차원은 축이 2개, 3차원은 축이 3개\n",
    "# 이 축은 숫자로 표현\n",
    "# 1차원일 경우 axis = 0 열방향 , 가로방향\n",
    "\n",
    "# print(arr.sum(axis=0))\n",
    "# print(arr.sum(axis=1)) -> 축에러(axis error) \n",
    "\n",
    "\n",
    "\n",
    "# 2차원 ndarray\n",
    "arr = np.array([[1,2,3],[4,5,6]])\n",
    "print(arr.sum())\n",
    "\n",
    "print(arr.sum(axis=0)) # 2차원에서 axis=0 => 행방향 => 세로방향\n",
    "print(arr.sum(axis=1)) #         axis=1 => 열방향 => 가로방향 \n",
    "\n",
    "print(arr.argmax(axis=1)) #[2 2]\n",
    "\n",
    "# np.random.seed(1)\n",
    "\n",
    "# arr1 = np.random.randint(0,10,(2,2,3))\n",
    "# print(arr1)\n",
    "# print(arr1.sum(axis=0)) # 3차원에서 axis=0 => depth 방향\n",
    "                        # 3차원에서 axis=1 => 행방향 => 세로방향\n",
    "                        # 3차원에서 axis=2 => 열방향 => 가로방향"
   ]
  },
  {
   "cell_type": "code",
   "execution_count": 150,
   "metadata": {},
   "outputs": [
    {
     "name": "stdout",
     "output_type": "stream",
     "text": [
      "[0.0000e+00 1.0000e+00 2.0000e+00 ... 9.9997e+04 9.9998e+04 9.9999e+04]\n"
     ]
    }
   ],
   "source": [
    "## numpy 집계함수를 사용해야 하는 이유\n",
    "## 집계함수를 사용하는 시간과 로직으로 연산을 수행하는 시간을 비교\n",
    "\n",
    "arr = np.arange(100000, dtype=np.float64)\n",
    "print(arr)\n",
    "\n",
    "# for문을 이용해서 합을 구하거나\n",
    "\n",
    "# 집계함수를 이용해서 구함\n",
    "\n",
    "# %%time 속도를 구하는 매직키워드"
   ]
  },
  {
   "cell_type": "code",
   "execution_count": 66,
   "metadata": {
    "scrolled": true
   },
   "outputs": [
    {
     "name": "stdout",
     "output_type": "stream",
     "text": [
      "4999950000.0\n",
      "CPU times: user 37.3 ms, sys: 1.88 ms, total: 39.2 ms\n",
      "Wall time: 37.8 ms\n"
     ]
    }
   ],
   "source": [
    "%%time\n",
    "\n",
    "# for문을 이용해서 합을 구하거나\n",
    "\n",
    "# arr = np.arange(100000, dtype=np.float64)\n",
    "\n",
    "\n",
    "# result = 0\n",
    "\n",
    "# for tmp in arr:\n",
    "#     result += tmp\n",
    "    \n",
    "# print(result)"
   ]
  },
  {
   "cell_type": "code",
   "execution_count": 64,
   "metadata": {
    "scrolled": true
   },
   "outputs": [
    {
     "name": "stdout",
     "output_type": "stream",
     "text": [
      "4999950000.0\n",
      "CPU times: user 871 µs, sys: 367 µs, total: 1.24 ms\n",
      "Wall time: 858 µs\n"
     ]
    }
   ],
   "source": [
    "%%time\n",
    "\n",
    "\n",
    "## 집계함수를 사용하는 시간과 로직으로 연산을 수행하는 시간을 비교\n",
    "\n",
    "# arr = np.arange(100000, dtype=np.float64)\n",
    "# print(arr.sum())"
   ]
  },
  {
   "cell_type": "code",
   "execution_count": 112,
   "metadata": {
    "scrolled": true
   },
   "outputs": [
    {
     "name": "stdout",
     "output_type": "stream",
     "text": [
      "[[ 1  2  3  4]\n",
      " [ 5  6  7  8]\n",
      " [ 9 10 11 12]\n",
      " [13 14 15 16]]\n",
      "[11 12 13 14 15 16]\n",
      "6\n",
      "6\n"
     ]
    }
   ],
   "source": [
    "## 연습문제\n",
    "\n",
    "import numpy as np\n",
    "\n",
    "arr = np.arange(1,17).reshape(4,4).copy()\n",
    "print(arr)\n",
    "\n",
    "\n",
    "# 문제 : ndarray 안에 10보다 큰 수가 몇개 있는지 알아보려면? => 6\n",
    "# print(arr[arr % 2 == 0])\n",
    "\n",
    "answer=(arr[arr > 10])\n",
    "print(answer.size)\n",
    "\n",
    "print((arr >10).sum()) # True = 1 을 다 더해서"
   ]
  },
  {
   "cell_type": "code",
   "execution_count": 195,
   "metadata": {
    "scrolled": true
   },
   "outputs": [
    {
     "name": "stdout",
     "output_type": "stream",
     "text": [
      "[7 6 3 5 0 1 2 4 9 8]\n",
      "[0 1 2 3 4 5 6 7 8 9]\n",
      "[9 8 7 6 5 4 3 2 1 0]\n",
      "[2.38314477 2.26975462 2.16323595 1.9507754  1.94362119 1.92953205\n",
      " 1.92294203 1.91006495 1.89588918 1.8831507  1.86755896]\n",
      "[2.38314477 2.26975462 2.16323595 1.9507754  1.94362119 1.92953205\n",
      " 1.92294203 1.91006495 1.89588918 1.8831507  1.86755896]\n"
     ]
    }
   ],
   "source": [
    "## ndarray를 정렬\n",
    "\n",
    "# NumPy array는 axis를 기준으로 정렬하는 sort() 함수를 제공\n",
    "# 만약 axis를 지정하지 않으면 -1값으로 지정 => 마지막 axis(열을 지칭)\n",
    "# np.sort(): 원본은 변하지 않고 정렬된 결과 ndarray를 리턴\n",
    "# arr.sort(): 원본을 정렬. return값은 None\n",
    "\n",
    "\n",
    "arr = np.arange(10)\n",
    "np.random.shuffle(arr)\n",
    "print(arr)\n",
    "\n",
    "print(np.sort(arr)) # 오름차순(작은 순서)\n",
    "\n",
    "# ndarray는 특수한 indexing을 제공 => 역순 정렬 indexing\n",
    "print(np.sort(arr)[::-1]) # 내림차순(큰 순서)\n",
    "\n",
    "\n",
    "# 2차원 ndarray 정렬\n",
    "# arr = np.arange(1,17)\n",
    "# np.random.shuffle(arr)\n",
    "# arr = arr.reshape(4,4).copy()\n",
    "\n",
    "# print(arr)\n",
    "\n",
    "# print(np.sort(arr,axis=0))  # 2차원 axis=0 행방향 세로방향\n",
    "# print(np.sort(arr,axis=1))  # 2차원 axis=1 열방향 가로방향\n",
    "\n",
    "\n",
    "## 표준정규분포에서 200개의 샘플을 추출한 후\n",
    "## 내림차순으로 상위 5%까지 결과만 출력하세요\n",
    "\n",
    "\n",
    "arr = np.random.randn(200)\n",
    "\n",
    "center=(np.sort(arr)[::-1][int(0.05*len(arr))])\n",
    "sorted_arr=np.sort(arr)[::-1]\n",
    "answer_arr=(sorted_arr[sorted_arr>=center])\n",
    "print(answer_arr)\n",
    "\n",
    "\n",
    "print((np.sort(arr)[::-1])[:int(0.05*len(arr))+1]) # int는 정수형으로 반환한다\n"
   ]
  },
  {
   "cell_type": "code",
   "execution_count": 196,
   "metadata": {
    "scrolled": true
   },
   "outputs": [
    {
     "name": "stdout",
     "output_type": "stream",
     "text": [
      "[[1 2 3]\n",
      " [4 5 6]\n",
      " [7 8 9]]\n"
     ]
    }
   ],
   "source": [
    "# python list는 append()를 이용해서 원소 추가\n",
    "\n",
    "# ndarray의 요소 추가 기능\n",
    "# concatenate()\n",
    "\n",
    "# ndarray에 row(s) 혹은 column(s)을 추가하기 위한 함수\n",
    "\n",
    "import numpy as np\n",
    "\n",
    "arr = np.array([[1,2,3],[4,5,6]]) # 2x3 ndarray\n",
    "\n",
    "new_row = np.array([7,8,9])\n",
    "\n",
    "# arr에 new_row vector를 하단에 붙여\n",
    "# 결과적으로 3x3 matrix를 생성!!\n",
    "# 인자 : 어떤 것을 서로 붙일 지, 행으로 붙일지 열로 붙일지\n",
    "\n",
    "result = np.concatenate((arr,new_row.reshape(1,3)),axis=0)\n",
    "print(result)\n",
    "\n",
    "# 하나의 ndarray와 다른 ndarray를 연결시키기 위해 사용"
   ]
  },
  {
   "cell_type": "code",
   "execution_count": 198,
   "metadata": {},
   "outputs": [
    {
     "name": "stdout",
     "output_type": "stream",
     "text": [
      "[[5 8 9 5]\n",
      " [0 0 1 7]\n",
      " [6 9 2 4]]\n",
      "[[5 8 9 5]\n",
      " [6 9 2 4]]\n"
     ]
    }
   ],
   "source": [
    "## delete()함수\n",
    "\n",
    "## axis를 기준으로 행과 열을 삭제\n",
    "## 만약 axis를 지정하지 않으면 1차원배열로 변환 후 삭제\n",
    "## 원본은 변경하지 않고 처리가 된 새로운 배열을 return\n",
    "\n",
    "import numpy as np\n",
    "\n",
    "np.random.seed(1)\n",
    "\n",
    "arr = np.random.randint(0,10,(3,4))\n",
    "print(arr)\n",
    "\n",
    "# result = np.delete(arr,1)      # axis가 설정되지 않았기 떄문에\n",
    "#                                # 1차배열로 자동 변경된 후 인덱스를 삭제\n",
    "# print(result)                  # [5 9 5 0 0 1 7 6 9 2 4]  \n",
    "\n",
    "result = np.delete(arr,1,axis=0) # axis 설정 행으로\n",
    "print(result)\n",
    "\n",
    "#[[5 8 9 5]\n",
    "# [6 9 2 4]]"
   ]
  },
  {
   "cell_type": "code",
   "execution_count": null,
   "metadata": {},
   "outputs": [],
   "source": [
    "# 연습문제"
   ]
  }
 ],
 "metadata": {
  "kernelspec": {
   "display_name": "Python [conda env:data_env] *",
   "language": "python",
   "name": "conda-env-data_env-py"
  },
  "language_info": {
   "codemirror_mode": {
    "name": "ipython",
    "version": 3
   },
   "file_extension": ".py",
   "mimetype": "text/x-python",
   "name": "python",
   "nbconvert_exporter": "python",
   "pygments_lexer": "ipython3",
   "version": "3.7.7"
  }
 },
 "nbformat": 4,
 "nbformat_minor": 4
}
