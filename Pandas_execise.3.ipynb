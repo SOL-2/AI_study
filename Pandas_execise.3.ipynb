{
 "cells": [
  {
   "cell_type": "code",
   "execution_count": 20,
   "metadata": {},
   "outputs": [],
   "source": [
    "# import numpy as np\n",
    "# import pandas as pd\n",
    "# import pyreadstat\n",
    "# import savReaderWriter\n",
    "# import os\n",
    "\n",
    "# with savReaderWriter.SavReader('./data/Koweps_hpc10_2015_beta1.sav',\n",
    "#                               ioUtf8 = True) as reader:\n",
    "#     df = pandas.DataFrame(reader.all(),\n",
    "#                           columns =[s for s in reader.header])\n",
    "    \n",
    "# try:\n",
    "#     pyreadstat.read_sav('./data/Koweps_hpc10_2015_beta1.sav', encoding='LATIN1')\n",
    "        \n",
    "            \n",
    "\n",
    "# except UnicodeDecodeError:\n",
    "#     print('ddd')\n",
    "\n",
    "# pyreadstat.read_sav('./data/test_2014_working.sav')\n",
    "\n",
    "#display(df)"
   ]
  },
  {
   "cell_type": "code",
   "execution_count": 19,
   "metadata": {
    "scrolled": true
   },
   "outputs": [
    {
     "name": "stdout",
     "output_type": "stream",
     "text": [
      "0    2.0\n",
      "1    2.0\n",
      "2    1.0\n",
      "3    1.0\n",
      "4    2.0\n",
      "Name: h10_g3, dtype: float64\n",
      "2014.0\n"
     ]
    }
   ],
   "source": [
    "import numpy as np\n",
    "import pandas as pd\n",
    "import json\n",
    "\n",
    "with open(\"./data/Koweps_hpc10_2015_beta1.json\",\"r\", encoding='utf-8') as file:\n",
    "    dict_Koweps = json.load(file)  \n",
    "\n",
    "df = pd.DataFrame.from_dict(dict_Koweps, orient='columns')\n",
    "                                                         \n",
    "# display(df.shape)\n",
    "\n",
    "print(df['h10_g3'].head())\n",
    "print(df['h10_g4'].max())\n",
    "\n",
    "# display(df)"
   ]
  },
  {
   "cell_type": "code",
   "execution_count": null,
   "metadata": {},
   "outputs": [],
   "source": [
    "# 1. 성별에 따른 월급 차이\n",
    "# 과거에 비해 여성의 사회 진출이 활발하지만 직장에서의\n",
    "# 위상에서는 여전히 차별이 존재하고 있는것이 사실.\n",
    "# 실제로 그러한지 월급의 차이를 이용하여 사실을 확인해보자\n",
    "\n",
    "\n",
    "# 2. 나이와 월급의 관계\n",
    "# 몇 살 때 월급을 가장 많이 받을까? 또 그때의 월급은 얼마인가?\n",
    "\n",
    "\n",
    "# 3. 연령대에 따른 월급 차이\n",
    "# 30세 미만을 초년(young), \n",
    "# 30~59세 : 중년(middle), \n",
    "# 60세 이상 : 노년(old)\n",
    "# 위의 범주로 연령대에 따른 월급의 차이를 알아보자\n",
    "\n",
    "\n",
    "# 4. 연령대 및 성별 월급 차이\n",
    "# 성별 월급 차이는 연령대에 따라 다른 양상을 보일 수 있습니다.\n",
    "# 성별 월급 차이가 연령대에 따라 다른지 분석해보자\n",
    "\n",
    "# 기존에는 3그룹(초년,중년,노년)이었지만 이젠 6그룹으로\n",
    "# 그룹핑을 해야 한다.(초년남성,초년여성,..)\n",
    "\n",
    "\n",
    "# 5. 직업별 월급 차이\n",
    "# 어떤 직업이 월급을 가장 많이 받을까?\n",
    "# 직업별 월급을 분석해 보자\n",
    "# 직업코드는 제공된 Koweps_Codebook.xlsx을 이용하면 \n",
    "# 편하게 코드값을 이용 할 수 있습니다.\n",
    "\n",
    "\n",
    "# 6. 성별 직업 빈도\n",
    "# 성별로 어떤 직업이 가장 많을까?\n",
    "\n",
    "\n",
    "# 7. 종교 유무에 따른 이혼율\n",
    "# 종교가 있는 사람들이 이혼을 덜 할까??\n",
    "\n",
    "\n",
    "# 8. 지역별 연령대 비율\n",
    "# 노년층이 많은 지역은 어디일까?\n"
   ]
  }
 ],
 "metadata": {
  "kernelspec": {
   "display_name": "Python [conda env:data_env] *",
   "language": "python",
   "name": "conda-env-data_env-py"
  },
  "language_info": {
   "codemirror_mode": {
    "name": "ipython",
    "version": 3
   },
   "file_extension": ".py",
   "mimetype": "text/x-python",
   "name": "python",
   "nbconvert_exporter": "python",
   "pygments_lexer": "ipython3",
   "version": "3.7.7"
  }
 },
 "nbformat": 4,
 "nbformat_minor": 4
}
