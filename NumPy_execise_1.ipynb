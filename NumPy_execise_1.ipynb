{
 "cells": [
  {
   "cell_type": "code",
   "execution_count": 26,
   "metadata": {
    "scrolled": true
   },
   "outputs": [
    {
     "name": "stdout",
     "output_type": "stream",
     "text": [
      "[['1907-10-01' '108' '13.5' '7.9' '20.7']\n",
      " ['1907-10-02' '108' '16.2' '7.9' '22']\n",
      " ['1907-10-03' '108' '16.2' '13.1' '21.3']\n",
      " ...\n",
      " ['2020-09-04' '108' '23.3' '19.9' '27.5']\n",
      " ['2020-09-05' '108' '23.3' '19.2' '27.3']\n",
      " ['2020-09-06' '108' '21.7' '19.5' '24.4']]\n"
     ]
    }
   ],
   "source": [
    "import numpy as np\n",
    "\n",
    "arr = np.loadtxt('./data/seoul.csv', dtype=np.object, delimiter=',', skiprows=1, encoding='CP949')\n",
    "\n"
   ]
  },
  {
   "cell_type": "code",
   "execution_count": null,
   "metadata": {},
   "outputs": [],
   "source": [
    "# 문제\n",
    "\n",
    "# 1) 기상 관측 이래, 서울의 최고 기온이 가장 높았던 날은 언제였고, 몇도인가요?\n",
    "# 2018년 8월 1일 39.6도\n",
    "\n",
    "# 2)역사적으로 일교차가 가장 큰 날짜는 몇년 몇월 몇일 인가요?\n",
    "# 1942년 4월 19일\n",
    "\n",
    "# 3)1년 중 평균적으로 일교차가 가장 큰 날짜는 몇월 몇일 인가요?\n",
    "# 4월 25일 \n",
    "# 4월 29일 12도\n",
    "\n",
    "# 4)가장 덥다고 알려진 대구보다 서울이 더 더운날이 가장 많은 연도는 언제인가요?\n"
   ]
  },
  {
   "cell_type": "code",
   "execution_count": 128,
   "metadata": {},
   "outputs": [
    {
     "ename": "IndexError",
     "evalue": "boolean index did not match indexed array along dimension 0; dimension is 40819 but corresponding boolean dimension is 5",
     "output_type": "error",
     "traceback": [
      "\u001b[0;31m---------------------------------------------------------------------------\u001b[0m",
      "\u001b[0;31mIndexError\u001b[0m                                Traceback (most recent call last)",
      "\u001b[0;32m<ipython-input-128-278ae75012de>\u001b[0m in \u001b[0;36m<module>\u001b[0;34m\u001b[0m\n\u001b[1;32m     21\u001b[0m \u001b[0;31m#그행의 맨첫번째 열이 '언제'\u001b[0m\u001b[0;34m\u001b[0m\u001b[0;34m\u001b[0m\u001b[0;34m\u001b[0m\u001b[0m\n\u001b[1;32m     22\u001b[0m \u001b[0;34m\u001b[0m\u001b[0m\n\u001b[0;32m---> 23\u001b[0;31m \u001b[0mprint\u001b[0m\u001b[0;34m(\u001b[0m\u001b[0marr\u001b[0m\u001b[0;34m[\u001b[0m\u001b[0marr\u001b[0m\u001b[0;34m[\u001b[0m\u001b[0;36m4\u001b[0m\u001b[0;34m]\u001b[0m \u001b[0;34m==\u001b[0m \u001b[0mstr\u001b[0m\u001b[0;34m(\u001b[0m\u001b[0mhigh_T\u001b[0m\u001b[0;34m)\u001b[0m\u001b[0;34m]\u001b[0m\u001b[0;34m)\u001b[0m\u001b[0;34m\u001b[0m\u001b[0;34m\u001b[0m\u001b[0m\n\u001b[0m\u001b[1;32m     24\u001b[0m \u001b[0;34m\u001b[0m\u001b[0m\n\u001b[1;32m     25\u001b[0m \u001b[0;34m\u001b[0m\u001b[0m\n",
      "\u001b[0;31mIndexError\u001b[0m: boolean index did not match indexed array along dimension 0; dimension is 40819 but corresponding boolean dimension is 5"
     ]
    }
   ],
   "source": [
    "# 1) 기상 관측 이래, 서울의 최고 기온이 가장 높았던 날은 언제였고, 몇도인가요?\n",
    "\n",
    "arr[arr == ''] = '0'\n",
    "\n",
    "seoul_arr = arr.copy()[:,1:5] # 서울 자료 카피\n",
    "# print(seoul_arr)\n",
    "# print(arr)\n",
    "\n",
    "seoul_T = seoul_arr.astype(np.float64)\n",
    "# print(seoul_T) 서울 전체 온도 자료\n",
    "\n",
    "\n",
    "high_T = np.max(seoul_T[:,3]) # 최고 기온\n",
    "   \n",
    "# arrTranspose=arr.T\n",
    "# print(arrTranspose)#arr==str(high_T)\n",
    "# print(arrTranspose[0][arrTranspose==str(high_T)])\n",
    "\n",
    "#몇번째행인지를 찾자\n",
    "\n",
    "#그행의 맨첫번째 열이 '언제'\n",
    "\n",
    "# print(arr[0]. == str(high_T)])\n",
    "\n",
    "\n",
    "\n",
    "\n",
    "\n",
    "\n",
    "\n",
    "\n",
    "\n",
    "\n",
    "\n",
    "\n",
    "\n",
    "\n",
    "\n",
    "\n"
   ]
  },
  {
   "cell_type": "code",
   "execution_count": 139,
   "metadata": {},
   "outputs": [
    {
     "name": "stdout",
     "output_type": "stream",
     "text": [
      "['20.7' '22' '21.3' ... '27.5' '27.3' '24.4']\n",
      "758\n",
      "39.6\n",
      "[False False False ... False False False]\n",
      "['2018-08-01']\n"
     ]
    }
   ],
   "source": [
    "# 1-1 문제 풀이\n",
    "\n",
    "# 데이터의 전처리\n",
    "# 결측치 처리와 이상치 처리\n",
    "# 결측치 처리 : raw 데이터는 문제의 소지가 있을 수 있음\n",
    "#            데이터가 없는 경우를 의미\n",
    "#            삭제.... 평균, 최고, 최저 이런 값으로 대체\n",
    "\n",
    "# 이상치 처리 : 데이터는 존재하는데 정상범위가 아닌 데이터를 지칭\n",
    "#            삭제...다른 값으로 대체\n",
    "\n",
    "arr = np.loadtxt('./data/seoul.csv', delimiter=',', skiprows=1, dtype=np.object, encoding='CP949')\n",
    "# print(arr)\n",
    "# print(arr.dtype)  # object\n",
    "\n",
    "# 최고 온도\n",
    "print(arr.T[4]) # 전치행렬로 최고기온 열을 array로 다 가져옴\n",
    "high_temp_arr = arr.T[4]\n",
    "\n",
    "print((high_temp_arr =='').sum()) # boolean mask를 이용해서 결측치 확인 : 758\n",
    "\n",
    "# blooean indexing을 이용해서 ''가 아닌 최고 기온만 뽑아냄\n",
    "\n",
    "print(high_temp_arr[high_temp_arr !=''].astype(np.float64).max()) # 39.6\n",
    "\n",
    "high_temp = high_temp_arr[high_temp_arr !=''].astype(np.float64).max() # 39.6 최고 기온\n",
    "\n",
    "\n",
    "print(high_temp_arr == str(high_temp)) # 최대값만 True인 boolean mask\n",
    "\n",
    "print(arr.T[0][high_temp_arr == str(high_temp)]) # 최고 기온이었던 날짜\n",
    "\n"
   ]
  }
 ],
 "metadata": {
  "kernelspec": {
   "display_name": "Python [conda env:data_env] *",
   "language": "python",
   "name": "conda-env-data_env-py"
  },
  "language_info": {
   "codemirror_mode": {
    "name": "ipython",
    "version": 3
   },
   "file_extension": ".py",
   "mimetype": "text/x-python",
   "name": "python",
   "nbconvert_exporter": "python",
   "pygments_lexer": "ipython3",
   "version": "3.7.7"
  }
 },
 "nbformat": 4,
 "nbformat_minor": 4
}
